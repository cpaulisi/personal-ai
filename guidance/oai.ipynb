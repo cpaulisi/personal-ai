{
 "cells": [
  {
   "cell_type": "markdown",
   "metadata": {},
   "source": [
    "## Test"
   ]
  },
  {
   "cell_type": "code",
   "execution_count": 14,
   "metadata": {},
   "outputs": [],
   "source": [
    "from guidance import (\n",
    "    models, \n",
    "    gen, \n",
    "    system, \n",
    "    user, \n",
    "    assistant, \n",
    "    select\n",
    ")\n",
    "\n",
    "from dotenv import load_dotenv\n",
    "\n",
    "load_dotenv()\n",
    "# this relies on the environment variable OPENAI_API_KEY being set\n",
    "gpt = models.OpenAI('gpt-4o-mini')\n",
    "lm = gpt\n",
    "\n",
    "# Function to select the model based on user input\n",
    "def select_model(model_name):\n",
    "    if model_name.lower() == 'gpt-4':\n",
    "        return models.OpenAI('gpt-4')\n",
    "    elif model_name.lower() == 'gpt-3.5-turbo':\n",
    "        return models.OpenAI('gpt-3.5-turbo')\n",
    "    elif model_name.lower() == 'gpt-4-mini':\n",
    "        return models.OpenAI('gpt-4o-mini')\n",
    "    else:\n",
    "        raise ValueError(f\"Unsupported model: {model_name}\")\n",
    "\n",
    "# Ask the user to select a model\n",
    "model_choice = input(\"Choose a model (gpt-4, gpt-3.5-turbo, gpt-4-mini): \")\n",
    "\n",
    "# Set the language model based on user choice\n",
    "lm = select_model(f'{model_choice}-mini')   \n",
    "\n"
   ]
  },
  {
   "cell_type": "code",
   "execution_count": null,
   "metadata": {},
   "outputs": [],
   "source": []
  }
 ],
 "metadata": {
  "kernelspec": {
   "display_name": ".venv",
   "language": "python",
   "name": "python3"
  },
  "language_info": {
   "codemirror_mode": {
    "name": "ipython",
    "version": 3
   },
   "file_extension": ".py",
   "mimetype": "text/x-python",
   "name": "python",
   "nbconvert_exporter": "python",
   "pygments_lexer": "ipython3",
   "version": "3.12.4"
  }
 },
 "nbformat": 4,
 "nbformat_minor": 2
}
