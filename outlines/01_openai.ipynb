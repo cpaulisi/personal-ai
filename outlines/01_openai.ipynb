{
 "cells": [
  {
   "cell_type": "code",
   "execution_count": 33,
   "metadata": {},
   "outputs": [],
   "source": [
    "import os\n",
    "from outlines import models\n",
    "from outlines.models.openai import OpenAIConfig\n",
    "from dotenv import load_dotenv\n",
    "\n",
    "load_dotenv()\n",
    "\n",
    "config = OpenAIConfig(\n",
    "    max_tokens=1000,\n",
    "    temperature=1,\n",
    ")\n",
    "\n",
    "model = models.openai(\"gpt-4o-mini\", config, api_key=os.environ[\"OPENAI_API_KEY\"])"
   ]
  },
  {
   "cell_type": "code",
   "execution_count": 34,
   "metadata": {},
   "outputs": [
    {
     "data": {
      "text/plain": [
       "Person(first_name='Narendra', last_name='Modi', age=72)"
      ]
     },
     "execution_count": 34,
     "metadata": {},
     "output_type": "execute_result"
    }
   ],
   "source": [
    "from pydantic import BaseModel, ConfigDict\n",
    "from outlines import generate\n",
    "\n",
    "class Person(BaseModel):\n",
    "    model_config = ConfigDict(extra='forbid')  # required for openai\n",
    "    first_name: str\n",
    "    last_name: str\n",
    "    age: int\n",
    "\n",
    "generator = generate.json(model, Person)\n",
    "generator(\"current indian prime minister on january 1st 2023\")\n"
   ]
  },
  {
   "cell_type": "code",
   "execution_count": 35,
   "metadata": {},
   "outputs": [
    {
     "name": "stdout",
     "output_type": "stream",
     "text": [
      "Egg\n"
     ]
    }
   ],
   "source": [
    "\n",
    "generator = generate.choice(model, [\"Chicken\", \"Egg\"])\n",
    "print(generator(\"Which came first?\"))\n"
   ]
  },
  {
   "cell_type": "code",
   "execution_count": null,
   "metadata": {},
   "outputs": [],
   "source": []
  }
 ],
 "metadata": {
  "kernelspec": {
   "display_name": ".venv",
   "language": "python",
   "name": "python3"
  },
  "language_info": {
   "codemirror_mode": {
    "name": "ipython",
    "version": 3
   },
   "file_extension": ".py",
   "mimetype": "text/x-python",
   "name": "python",
   "nbconvert_exporter": "python",
   "pygments_lexer": "ipython3",
   "version": "3.12.7"
  }
 },
 "nbformat": 4,
 "nbformat_minor": 2
}
