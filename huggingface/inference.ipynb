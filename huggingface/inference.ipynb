{
 "cells": [
  {
   "cell_type": "code",
   "execution_count": 6,
   "metadata": {},
   "outputs": [],
   "source": [
    "import os\n",
    "from dotenv import load_dotenv\n",
    "from huggingface_hub import InferenceClient\n",
    "\n",
    "load_dotenv()\n",
    "client = InferenceClient(api_key=os.getenv(\"HF_TOKEN\"))"
   ]
  },
  {
   "cell_type": "code",
   "execution_count": 7,
   "metadata": {},
   "outputs": [
    {
     "name": "stdout",
     "output_type": "stream",
     "text": [
      " The capital of the United States is Washington, D.C. It was established as the national capital on June 11, 1790, and is located on the Potomac River. Washington, D.C. stands for \"District of Columbia.\" Originally named Columbia after Christopher Columbus, it was renamed to honor George Washington after his presidency. The city is not part of any state and is unique in that it is under the exclusive jurisdiction of Congress. Washington, D.C., is home to iconic buildings such as the White House, where the President of the United States resides, and the Capitol Building, which houses the United States Congress. Additionally, numerous national museums, monuments, and memorials, like the Lincoln Memorial and the Smithsonian Institution, enrich the city’s significance as a center of political, cultural, and historical importance in the U.S.\n",
      "\n",
      "Additionally, Washington, D.C. has its own local government, established by the District of Columbia Home Rule Act in 1973. The heads of both the executive branch and the legislative body are popularly elected through mayoral and council elections respectively. However, Congress retains ultimate authority on matters such as the appointment of federal officials, federal spending, and national security.\n",
      "\n",
      "In conclusion, Washington, D.C. holds a crucial role in the nation's governance of the United States due to its strategic positioning as the seat of federal government, serving as the hub for meetings, decisions, and the execution of state acts. The city's rich history, architecture, and iconic landmarks make it a unique, significant, and distinguishable capital that helps weave the American democratic thread by connecting its citizens to the functions of governance and history."
     ]
    }
   ],
   "source": [
    "for message in client.chat_completion(\n",
    "\tmodel=\"microsoft/Phi-3.5-mini-instruct\",\n",
    "\tmessages=[{\"role\": \"user\", \"content\": \"What is the capital of the United States?\"}],\n",
    "\tmax_tokens=500,\n",
    "\tstream=True,\n",
    "):\n",
    "    print(message.choices[0].delta.content, end=\"\")"
   ]
  },
  {
   "cell_type": "code",
   "execution_count": 17,
   "metadata": {},
   "outputs": [
    {
     "name": "stdout",
     "output_type": "stream",
     "text": [
      "A knowledge graph (kg) is a digital representation of a complex system, relationship, or entity, using a graph structure to organize and visualize the relationships between concepts, entities, and their interactions. It's like a massive database that provides a layer of abstraction and insight into the interconnected nature of things.\n",
      "\n",
      "A typical knowledge graph consists of multiple layers of nodes and edges, where each node represents an instance, concept, or entity, and each edge represents a relationship or connection between them. These edges can be weighted, indicating the strength or significance of the connection.\n",
      "\n",
      "Knowledge graphs have numerous applications across various fields, including:\n",
      "\n",
      "1. **Data integration**: KGs help unify data from multiple sources, enabling data integration and real-time data fusion.\n",
      "2. **Natural Language Processing (NLP)**: KGs are used in language models to represent entities, relationships, and context, enabling more effective text analysis, search, and generation capabilities.\n",
      "3. **Recommendation systems**: KGs aid in building personalized recommendations by identifying relevant entities, relationships, and interests.\n",
      "4. ** semantic search**: KGs assist in metaphorical search, mining knowledge from a large corpus of text, articles, and multimedia resources.\n",
      "5. **Graph databases**: Large knowledge graphs can be efficiently stored and queried using graph databases.\n",
      "\n",
      "Some common elements found in knowledge graphs include:\n",
      "\n",
      "* **Entities**: Individuals, organizations, locations, and concepts (e.g., \"Google\", \"Human\", \"Computer\").\n",
      "* **Relationships**: Connections between entities (e.g., likes, shares, follows).\n",
      "* **Attributes**: Additional properties or information associated with entities (e.g., \"Country\", \"Language\", \"Occupation\").\n",
      "* **Types**: Categorical labels or categories related to entities (e.g., \"Country\", \"Type of Vehicle\").\n",
      "\n",
      "Knowledge graphs are particularly useful in:\n",
      "\n",
      "* Information retrieval and data search\n",
      "* Sentiment analysis and opinion mining\n",
      "*Recommendation systems and personalized recommendations\n",
      "* Entity recognition and disambiguation\n",
      "* Social media analysis and understanding\n",
      "\n",
      "In summary, a knowledge graph is a powerful tool for analyzing and visualizing relationships between entities, insights, and data, making it a key aspect of many AI, NLP, and data science applications."
     ]
    }
   ],
   "source": [
    "for message in client.chat_completion(\n",
    "\tmodel=\"meta-llama/Llama-3.2-1B-Instruct\",\n",
    "\tmessages=[{\"role\": \"user\", \"content\": \"What is a knowledge graph?\"}],\n",
    "\tmax_tokens=500,\n",
    "\tstream=True,\n",
    "):\n",
    "    print(message.choices[0].delta.content, end=\"\")"
   ]
  },
  {
   "cell_type": "code",
   "execution_count": 13,
   "metadata": {},
   "outputs": [
    {
     "name": "stdout",
     "output_type": "stream",
     "text": [
      "The image shows the Statue of Liberty, a symbol of freedom and democracy, in the foreground. The statue is situated in New York Harbor, with the iconic Manhattan skyline visible in the background."
     ]
    }
   ],
   "source": [
    "image_url = \"https://cdn.britannica.com/61/93061-050-99147DCE/Statue-of-Liberty-Island-New-York-Bay.jpg\"\n",
    "\n",
    "for message in client.chat_completion(\n",
    "\tmodel=\"meta-llama/Llama-3.2-11B-Vision-Instruct\",\n",
    "\tmessages=[\n",
    "\t\t{\n",
    "\t\t\t\"role\": \"user\",\n",
    "\t\t\t\"content\": [\n",
    "\t\t\t\t{\"type\": \"image_url\", \"image_url\": {\"url\": image_url}},\n",
    "\t\t\t\t{\"type\": \"text\", \"text\": \"What is happening in this image?\"},\n",
    "\t\t\t],\n",
    "\t\t}\n",
    "\t],\n",
    "\tmax_tokens=500,\n",
    "\tstream=True,\n",
    "):\n",
    "\tprint(message.choices[0].delta.content, end=\"\")"
   ]
  },
  {
   "cell_type": "code",
   "execution_count": 24,
   "metadata": {},
   "outputs": [],
   "source": [
    "import dspy\n",
    "from textwrap import dedent\n",
    "\n",
    "os.environ[\"HUGGINGFACE_API_KEY\"] = os.environ[\"HF_TOKEN\"]\n",
    "lm = dspy.LM('huggingface/meta-llama/Llama-3.2-11B-Vision-Instruct')\n",
    "dspy.configure(lm=lm)"
   ]
  },
  {
   "cell_type": "code",
   "execution_count": 31,
   "metadata": {},
   "outputs": [
    {
     "data": {
      "text/plain": [
       "Prediction(\n",
       "    reasoning='The reasoning behind this question is that the function f(x) = 4x is a linear function, and the integral of a linear function between two points is the average of the function values at those points multiplied by the distance between the points. In this case, the average of f(0) and f(1) is (0 + 4) / 2 = 2, and the distance between 0 and 1 is 1. Therefore, the integral is 2 * 1 = 2, not 8.',\n",
       "    mistake='The mistake the student made is that they incorrectly calculated the integral of the function f(x) = 4x between 0 and 1. They likely misunderstood the formula for the integral of a linear function or made a calculation error.'\n",
       ")"
      ]
     },
     "execution_count": 31,
     "metadata": {},
     "output_type": "execute_result"
    }
   ],
   "source": [
    "ques = dedent(\n",
    "    \"\"\"\n",
    "    Which of the following is the function if the integral is 8?\n",
    "    \"\"\"\n",
    ")\n",
    "\n",
    "ans = dedent(\n",
    "    \"\"\"\n",
    "    f(x) = 4x between 0 and 1\n",
    "    \"\"\"\n",
    ")\n",
    "\n",
    "class ExplainMistake(dspy.Signature):\n",
    "    \"\"\"\n",
    "    Describe how the user would approach this problem and why they answered it incorrectly.\n",
    "    \"\"\"\n",
    "    question = dspy.InputField(desc=\"The question posed to the student.\")\n",
    "    answer = dspy.InputField(desc=\"The incorrect answer that the student provided.\")\n",
    "    mistake = dspy.OutputField(desc=\"The mistake that the student made and why it would lead to a false answer.\")\n",
    "\n",
    "subject = dspy.ChainOfThought(ExplainMistake)\n",
    "subject(question=ques, answer=ans)"
   ]
  },
  {
   "cell_type": "code",
   "execution_count": null,
   "metadata": {},
   "outputs": [],
   "source": []
  }
 ],
 "metadata": {
  "kernelspec": {
   "display_name": ".venv",
   "language": "python",
   "name": "python3"
  },
  "language_info": {
   "codemirror_mode": {
    "name": "ipython",
    "version": 3
   },
   "file_extension": ".py",
   "mimetype": "text/x-python",
   "name": "python",
   "nbconvert_exporter": "python",
   "pygments_lexer": "ipython3",
   "version": "3.12.4"
  }
 },
 "nbformat": 4,
 "nbformat_minor": 2
}
