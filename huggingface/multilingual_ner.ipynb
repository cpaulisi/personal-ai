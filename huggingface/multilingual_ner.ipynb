{
 "cells": [
  {
   "cell_type": "markdown",
   "metadata": {},
   "source": [
    "# Multilingual Named Entity Recognition\n",
    "\n",
    "We'll use the [xtreme](https://github.com/google-research/xtreme) dataset from Huggingface, that contains [IOB2](https://en.wikipedia.org/wiki/Inside%E2%80%93outside%E2%80%93beginning_(tagging))-tagged tokens. This task is derived from an O'Reilly book - \"Natural Language Processing with Transformers.\""
   ]
  },
  {
   "cell_type": "code",
   "execution_count": 1,
   "metadata": {},
   "outputs": [
    {
     "name": "stdout",
     "output_type": "stream",
     "text": [
      "XTREME has 183 configurations\n"
     ]
    }
   ],
   "source": [
    "from datasets import get_dataset_config_names\n",
    "\n",
    "xtreme_subsets = get_dataset_config_names(\"xtreme\")\n",
    "print(f\"XTREME has {len(xtreme_subsets)} configurations\")"
   ]
  },
  {
   "cell_type": "markdown",
   "metadata": {},
   "source": [
    "Look for the configurations that just contain \"PAN\". This will allow us to conduct NER on different languages, marked with the `ISO 639-1` language code. "
   ]
  },
  {
   "cell_type": "code",
   "execution_count": 2,
   "metadata": {},
   "outputs": [
    {
     "data": {
      "text/plain": [
       "['PAN-X.af', 'PAN-X.ar', 'PAN-X.bg']"
      ]
     },
     "execution_count": 2,
     "metadata": {},
     "output_type": "execute_result"
    }
   ],
   "source": [
    "panx_subsets = [s for s in xtreme_subsets if s.startswith(\"PAN\")]\n",
    "panx_subsets[:3]"
   ]
  },
  {
   "cell_type": "markdown",
   "metadata": {},
   "source": [
    "## Create a Swiss-like Multilingual Dataset\n",
    "\n",
    "Use the general spoken proportions of German, Italian, French, and English in Switzerland to emulate data."
   ]
  },
  {
   "cell_type": "code",
   "execution_count": 3,
   "metadata": {},
   "outputs": [],
   "source": [
    "from collections import defaultdict\n",
    "from datasets import DatasetDict, load_dataset\n",
    "\n",
    "langs = [\"de\", \"fr\", \"it\", \"en\"]\n",
    "fracs = [0.629, 0.229, 0.084, 0.059]\n",
    "# Return a DatasetDict if a key doesn't exist\n",
    "panx_ch = defaultdict(DatasetDict)\n",
    "\n",
    "for lang, frac in zip(langs, fracs):\n",
    "    # Load monolingual corpus\n",
    "    ds = load_dataset(\"xtreme\", name=f\"PAN-X.{lang}\")\n",
    "    # Shuffle and downsample each split according to spoken proportion\n",
    "    for split in ds:\n",
    "        panx_ch[lang][split] = (\n",
    "            ds[split]\n",
    "            .shuffle(seed=0)\n",
    "            .select(range(int(frac * ds[split].num_rows))))"
   ]
  },
  {
   "cell_type": "code",
   "execution_count": 15,
   "metadata": {},
   "outputs": [
    {
     "data": {
      "text/plain": [
       "{'tokens': Sequence(feature=Value(dtype='string', id=None), length=-1, id=None),\n",
       " 'ner_tags': Sequence(feature=ClassLabel(names=['O', 'B-PER', 'I-PER', 'B-ORG', 'I-ORG', 'B-LOC', 'I-LOC'], id=None), length=-1, id=None),\n",
       " 'langs': Sequence(feature=Value(dtype='string', id=None), length=-1, id=None)}"
      ]
     },
     "execution_count": 15,
     "metadata": {},
     "output_type": "execute_result"
    }
   ],
   "source": [
    "# show the features of the training set for German\n",
    "panx_ch[\"de\"][\"train\"].features"
   ]
  },
  {
   "cell_type": "code",
   "execution_count": 17,
   "metadata": {},
   "outputs": [
    {
     "data": {
      "text/html": [
       "<div>\n",
       "<style scoped>\n",
       "    .dataframe tbody tr th:only-of-type {\n",
       "        vertical-align: middle;\n",
       "    }\n",
       "\n",
       "    .dataframe tbody tr th {\n",
       "        vertical-align: top;\n",
       "    }\n",
       "\n",
       "    .dataframe thead th {\n",
       "        text-align: right;\n",
       "    }\n",
       "</style>\n",
       "<table border=\"1\" class=\"dataframe\">\n",
       "  <thead>\n",
       "    <tr style=\"text-align: right;\">\n",
       "      <th></th>\n",
       "      <th>tokens</th>\n",
       "      <th>ner_tags</th>\n",
       "      <th>langs</th>\n",
       "    </tr>\n",
       "  </thead>\n",
       "  <tbody>\n",
       "    <tr>\n",
       "      <th>0</th>\n",
       "      <td>[als, Teil, der, Savoyer, Voralpen, im, Osten, .]</td>\n",
       "      <td>[0, 0, 0, 5, 6, 0, 0, 0]</td>\n",
       "      <td>[de, de, de, de, de, de, de, de]</td>\n",
       "    </tr>\n",
       "    <tr>\n",
       "      <th>1</th>\n",
       "      <td>[WEITERLEITUNG, Antonina, Wladimirowna, Kriwos...</td>\n",
       "      <td>[0, 1, 2, 2]</td>\n",
       "      <td>[de, de, de, de]</td>\n",
       "    </tr>\n",
       "    <tr>\n",
       "      <th>2</th>\n",
       "      <td>[**, '', Lou, Salomé, '', .]</td>\n",
       "      <td>[0, 0, 1, 2, 0, 0]</td>\n",
       "      <td>[de, de, de, de, de, de]</td>\n",
       "    </tr>\n",
       "    <tr>\n",
       "      <th>3</th>\n",
       "      <td>[Spieler, vom, SKA, Sankt, Petersburg, ausgewä...</td>\n",
       "      <td>[0, 0, 3, 4, 4, 0, 0, 0, 0, 3, 4, 4, 0, 0, 0, ...</td>\n",
       "      <td>[de, de, de, de, de, de, de, de, de, de, de, d...</td>\n",
       "    </tr>\n",
       "    <tr>\n",
       "      <th>4</th>\n",
       "      <td>[Jaan, Kirsipuu, 74, P, .]</td>\n",
       "      <td>[1, 2, 0, 0, 0]</td>\n",
       "      <td>[de, de, de, de, de]</td>\n",
       "    </tr>\n",
       "    <tr>\n",
       "      <th>...</th>\n",
       "      <td>...</td>\n",
       "      <td>...</td>\n",
       "      <td>...</td>\n",
       "    </tr>\n",
       "    <tr>\n",
       "      <th>19995</th>\n",
       "      <td>[**, ', '', Grafschaft, Edessa, '', ']</td>\n",
       "      <td>[0, 0, 0, 3, 4, 0, 0]</td>\n",
       "      <td>[de, de, de, de, de, de, de]</td>\n",
       "    </tr>\n",
       "    <tr>\n",
       "      <th>19996</th>\n",
       "      <td>[1358, hielt, er, sich, in, Padua, auf, und, m...</td>\n",
       "      <td>[0, 0, 0, 0, 0, 5, 0, 0, 0, 0, 0, 0, 0, 1, 2, 0]</td>\n",
       "      <td>[de, de, de, de, de, de, de, de, de, de, de, d...</td>\n",
       "    </tr>\n",
       "    <tr>\n",
       "      <th>19997</th>\n",
       "      <td>[***, ', '', Hochstift, Chiemsee, '', ']</td>\n",
       "      <td>[0, 0, 0, 5, 6, 0, 0]</td>\n",
       "      <td>[de, de, de, de, de, de, de]</td>\n",
       "    </tr>\n",
       "    <tr>\n",
       "      <th>19998</th>\n",
       "      <td>[Peter, Falk, –, Columbo]</td>\n",
       "      <td>[1, 2, 0, 3]</td>\n",
       "      <td>[de, de, de, de]</td>\n",
       "    </tr>\n",
       "    <tr>\n",
       "      <th>19999</th>\n",
       "      <td>[Beim, Aufenthalt, des, späteren, Kaisers, und...</td>\n",
       "      <td>[0, 0, 0, 0, 0, 0, 0, 0, 1, 2, 2, 0, 0, 0]</td>\n",
       "      <td>[de, de, de, de, de, de, de, de, de, de, de, d...</td>\n",
       "    </tr>\n",
       "  </tbody>\n",
       "</table>\n",
       "<p>20000 rows × 3 columns</p>\n",
       "</div>"
      ],
      "text/plain": [
       "                                                  tokens  \\\n",
       "0      [als, Teil, der, Savoyer, Voralpen, im, Osten, .]   \n",
       "1      [WEITERLEITUNG, Antonina, Wladimirowna, Kriwos...   \n",
       "2                           [**, '', Lou, Salomé, '', .]   \n",
       "3      [Spieler, vom, SKA, Sankt, Petersburg, ausgewä...   \n",
       "4                             [Jaan, Kirsipuu, 74, P, .]   \n",
       "...                                                  ...   \n",
       "19995             [**, ', '', Grafschaft, Edessa, '', ']   \n",
       "19996  [1358, hielt, er, sich, in, Padua, auf, und, m...   \n",
       "19997           [***, ', '', Hochstift, Chiemsee, '', ']   \n",
       "19998                          [Peter, Falk, –, Columbo]   \n",
       "19999  [Beim, Aufenthalt, des, späteren, Kaisers, und...   \n",
       "\n",
       "                                                ner_tags  \\\n",
       "0                               [0, 0, 0, 5, 6, 0, 0, 0]   \n",
       "1                                           [0, 1, 2, 2]   \n",
       "2                                     [0, 0, 1, 2, 0, 0]   \n",
       "3      [0, 0, 3, 4, 4, 0, 0, 0, 0, 3, 4, 4, 0, 0, 0, ...   \n",
       "4                                        [1, 2, 0, 0, 0]   \n",
       "...                                                  ...   \n",
       "19995                              [0, 0, 0, 3, 4, 0, 0]   \n",
       "19996   [0, 0, 0, 0, 0, 5, 0, 0, 0, 0, 0, 0, 0, 1, 2, 0]   \n",
       "19997                              [0, 0, 0, 5, 6, 0, 0]   \n",
       "19998                                       [1, 2, 0, 3]   \n",
       "19999         [0, 0, 0, 0, 0, 0, 0, 0, 1, 2, 2, 0, 0, 0]   \n",
       "\n",
       "                                                   langs  \n",
       "0                       [de, de, de, de, de, de, de, de]  \n",
       "1                                       [de, de, de, de]  \n",
       "2                               [de, de, de, de, de, de]  \n",
       "3      [de, de, de, de, de, de, de, de, de, de, de, d...  \n",
       "4                                   [de, de, de, de, de]  \n",
       "...                                                  ...  \n",
       "19995                       [de, de, de, de, de, de, de]  \n",
       "19996  [de, de, de, de, de, de, de, de, de, de, de, d...  \n",
       "19997                       [de, de, de, de, de, de, de]  \n",
       "19998                                   [de, de, de, de]  \n",
       "19999  [de, de, de, de, de, de, de, de, de, de, de, d...  \n",
       "\n",
       "[20000 rows x 3 columns]"
      ]
     },
     "execution_count": 17,
     "metadata": {},
     "output_type": "execute_result"
    }
   ],
   "source": [
    "# show the first few rows of the training set for German\n",
    "panx_ch[\"de\"][\"train\"].data.to_pandas()"
   ]
  },
  {
   "cell_type": "code",
   "execution_count": null,
   "metadata": {},
   "outputs": [],
   "source": []
  }
 ],
 "metadata": {
  "kernelspec": {
   "display_name": ".venv",
   "language": "python",
   "name": "python3"
  },
  "language_info": {
   "codemirror_mode": {
    "name": "ipython",
    "version": 3
   },
   "file_extension": ".py",
   "mimetype": "text/x-python",
   "name": "python",
   "nbconvert_exporter": "python",
   "pygments_lexer": "ipython3",
   "version": "3.12.3"
  }
 },
 "nbformat": 4,
 "nbformat_minor": 2
}
