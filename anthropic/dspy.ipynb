{
 "cells": [
  {
   "cell_type": "code",
   "execution_count": 20,
   "metadata": {},
   "outputs": [],
   "source": [
    "from dotenv import load_dotenv\n",
    "import dspy\n",
    "\n",
    "load_dotenv()\n",
    "\n",
    "ANTHROPIC_LITELLM_PREFIX = \"anthropic\"\n",
    "MODEL = \"claude-3-5-sonnet-20241022\"\n",
    "\n",
    "lm = dspy.LM(f'{ANTHROPIC_LITELLM_PREFIX}/{MODEL}')\n",
    "dspy.configure(lm=lm)"
   ]
  },
  {
   "cell_type": "code",
   "execution_count": 21,
   "metadata": {},
   "outputs": [
    {
     "data": {
      "text/plain": [
       "Prediction(\n",
       "    reasoning='This is a basic addition problem. Two plus two equals four.',\n",
       "    answer=4\n",
       ")"
      ]
     },
     "execution_count": 21,
     "metadata": {},
     "output_type": "execute_result"
    }
   ],
   "source": [
    "module = dspy.ChainOfThought('question -> answer: int')\n",
    "module(question=\"What is 2+2?\")"
   ]
  },
  {
   "cell_type": "code",
   "execution_count": 22,
   "metadata": {},
   "outputs": [
    {
     "data": {
      "text/plain": [
       "Prediction(\n",
       "    reasoning='Let me evaluate each claim:\\n\\n1. \"Python was released in 1991\" - This is TRUE. Python was indeed first released by Guido van Rossum in 1991.\\n\\n2. \"Python is a compiled language\" - This is FALSE. Python is primarily an interpreted language. While Python code is compiled to bytecode (.pyc files) before execution, it\\'s not a compiled language in the traditional sense like C++ or Java. Python code is executed by an interpreter, not directly compiled to machine code.',\n",
       "    verdicts=[True, False]\n",
       ")"
      ]
     },
     "execution_count": 22,
     "metadata": {},
     "output_type": "execute_result"
    }
   ],
   "source": [
    "fact_checking = dspy.ChainOfThought('claims -> verdicts: list[bool]')\n",
    "fact_checking(claims=[\"Python was released in 1991.\", \"Python is a compiled language.\"])"
   ]
  },
  {
   "cell_type": "code",
   "execution_count": 41,
   "metadata": {},
   "outputs": [
    {
     "name": "stdout",
     "output_type": "stream",
     "text": [
      "• Understanding Definite Integrals\n",
      "    - Definition of a definite integral as area under the curve\n",
      "    - Steps for evaluating definite integrals\n",
      "    - Importance of checking all bounds given in options\n",
      "\n",
      "• Integration Rules\n",
      "    - Power rule for integration: ∫xⁿ dx = (xⁿ⁺¹)/(n+1) + C\n",
      "    - Coefficient rule: ∫(kf(x))dx = k∫f(x)dx\n",
      "    - Evaluating at bounds: F(b) - F(a)\n",
      "\n",
      "• Area Calculation\n",
      "    - Understanding that the integral represents area\n",
      "    - Checking if result matches the given value (8 in this case)\n",
      "    - Verifying answer by testing all options\n",
      "\n",
      "Let's solve this step by step:\n",
      "\n",
      "1. We need to find which option gives an integral of 8\n",
      "2. For f(x) = 4x, let's integrate:\n",
      "   - ∫4x dx = 2x² + C\n",
      "\n",
      "3. Now let's check each option:\n",
      "   a) From 0 to 1:\n",
      "      - 2(1)² - 2(0)² = 2 - 0 = 2 ✗\n",
      "   \n",
      "   b) From 4 to 8:\n",
      "      - 2(8)² - 2(4)² = 128 - 32 = 96 ✗\n",
      "   \n",
      "   c) From 0 to 2:\n",
      "      - 2(2)² - 2(0)² = 8 - 0 = 8 ✓\n",
      "\n",
      "4. Therefore, f(x) = 4x between 0 and 2 is correct because it gives us 8\n"
     ]
    }
   ],
   "source": [
    "from textwrap import dedent\n",
    "\n",
    "ques = dedent(\n",
    "    \"\"\"\n",
    "    Which of the following is the function if the integral is 8?\n",
    "\n",
    "    - f(x) = 4x between 0 and 1\n",
    "    - f(x) = 4x between 4 and 8\n",
    "    - f(x) = 4x between 0 and 2\n",
    "    \"\"\"\n",
    ")\n",
    "\n",
    "ans = dedent(\n",
    "    \"\"\"\n",
    "    f(x) = 4x between 0 and 1\n",
    "    \"\"\"\n",
    ")\n",
    "\n",
    "class ExplainMistake(dspy.Signature):\n",
    "    \"\"\"\n",
    "    Describe how the user would approach this problem and why they answered it incorrectly.\n",
    "    \"\"\"\n",
    "    question = dspy.InputField(desc=\"The question posed to the student.\")\n",
    "    answer = dspy.InputField(desc=\"The incorrect answer that the student provided.\")\n",
    "    mistake = dspy.OutputField(desc=\"The mistake that the student made and why it would lead to a false answer.\")\n",
    "\n",
    "class PrescribeLesson(dspy.Signature):\n",
    "    \"\"\"\n",
    "    You're a math teacher for high school students that utilizes principles of learning science to help your students understand concepts better.\n",
    "    You are a diligent teacher that can walk students through any standard concept that appears in algebra, trigonometry, or calculus.\n",
    "\n",
    "    A student has just provided you with a mistake that they made after being given a question.\n",
    "    Develop a brief lesson plan (one that can be conveyed in 3 paragraphs or less) that will explain to the student concepts they need to know in order to not make this mistake again.\n",
    "    \"\"\"\n",
    "    question = dspy.InputField(desc=\"The original question asked to the student\")\n",
    "    answer= dspy.InputField(desc=\"The incorrect answer that the student gave.\")\n",
    "    reasoning = dspy.InputField(desc=\"The suggested reasoning of the student.\")\n",
    "    mistake = dspy.InputField(desc=\"The mistake or incorrect answer that the user selected, along with a justification.\")\n",
    "    lesson = dspy.OutputField(desc=\"The hierarchal lesson plan that the student needs to fix this issue. Structured in bullet-point format.\")\n",
    "    example = dspy.OutputField(desc=\"Provide a step-by-step example for how you would solve the problem to the student.\")\n",
    "\n",
    "\n",
    "# explain the mistake\n",
    "explain_mistake = dspy.ChainOfThought(ExplainMistake)\n",
    "mis = explain_mistake(question=ques, answer=ans)\n",
    "\n",
    "# now develop a lesson plan around this\n",
    "lesson_plan = dspy.ChainOfThought(PrescribeLesson)\n",
    "new_lesson = lesson_plan(question=ques, answer=ans, **mis.toDict())\n",
    "lesson = new_lesson.lesson\n",
    "lesson_example = new_lesson.example\n",
    "\n",
    "print(lesson + \"\\n\")\n",
    "print(lesson_example)"
   ]
  },
  {
   "cell_type": "code",
   "execution_count": null,
   "metadata": {},
   "outputs": [],
   "source": []
  }
 ],
 "metadata": {
  "kernelspec": {
   "display_name": ".venv",
   "language": "python",
   "name": "python3"
  },
  "language_info": {
   "codemirror_mode": {
    "name": "ipython",
    "version": 3
   },
   "file_extension": ".py",
   "mimetype": "text/x-python",
   "name": "python",
   "nbconvert_exporter": "python",
   "pygments_lexer": "ipython3",
   "version": "3.12.4"
  }
 },
 "nbformat": 4,
 "nbformat_minor": 2
}
